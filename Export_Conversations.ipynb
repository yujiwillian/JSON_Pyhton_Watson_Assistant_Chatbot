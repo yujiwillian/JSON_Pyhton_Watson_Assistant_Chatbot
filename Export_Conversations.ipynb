{
 "cells": [
  {
   "cell_type": "code",
   "execution_count": null,
   "metadata": {},
   "outputs": [],
   "source": [
    "%pip install --user conversation_analytics_toolkit\n"
   ]
  },
  {
   "cell_type": "code",
   "execution_count": null,
   "metadata": {},
   "outputs": [],
   "source": [
    "pip install ibm-cloud-sdk-core"
   ]
  },
  {
   "cell_type": "code",
   "execution_count": null,
   "metadata": {},
   "outputs": [],
   "source": [
    "import nltk\n",
    "nltk.download('words')\n",
    "nltk.download('punkt')\n",
    "nltk.download('stopwords')"
   ]
  },
  {
   "cell_type": "code",
   "execution_count": null,
   "metadata": {},
   "outputs": [],
   "source": [
    "\n",
    "\n",
    "import json\n",
    "import pandas as pd\n",
    "from pandas.io.json import json_normalize\n",
    "from IPython.core.display import display, HTML\n",
    "\n",
    "from pandas.io.json import json_normalize\n",
    "from IPython.core.display import display, HTML\n",
    "\n",
    "import pandas as pd\n",
    "import argparse\n",
    "\n",
    "\n",
    "\n",
    "from urllib.parse import urlparse, parse_qs\n",
    "from datetime import datetime\n",
    "\n",
    "c_RESPONSE = 'response'\n",
    "c_CONTEXT = 'context'\n",
    "c_SYSTEM = 'system'\n",
    "c_INPUT = 'input'\n",
    "c_OUTPUT = 'output'\n",
    "c_INTENTS = 'intents'\n",
    "c_INTENT = 'intent'\n",
    "c_TEXT = 'text'\n",
    "c_BRANCH_EXITED_REASON = 'branch_exited_reason'\n",
    "c_LOG_MESSAGING = 'log_messaging'\n",
    "c_CONFIDENCE = 'confidence'\n",
    "c_LOGS = 'logs'\n",
    "c_PAGINATION = 'pagination'\n",
    "c_NEXT_URL = 'next_url'\n",
    "c_CURSOR = 'cursor'"
   ]
  },
  {
   "cell_type": "code",
   "execution_count": null,
   "metadata": {},
   "outputs": [],
   "source": [
    "import pandas as pd\n",
    "pd.set_option('display.max_rows', 20000)\n",
    "pd.set_option('display.max_colwidth', 10000000)"
   ]
  },
  {
   "cell_type": "code",
   "execution_count": null,
   "metadata": {},
   "outputs": [],
   "source": [
    "import conversation_analytics_toolkit\n",
    "from conversation_analytics_toolkit import wa_assistant_skills\n",
    "from conversation_analytics_toolkit import transformation\n",
    "from conversation_analytics_toolkit import filtering2 as filtering\n",
    "from conversation_analytics_toolkit import analysis \n",
    "from conversation_analytics_toolkit import visualization \n",
    "from conversation_analytics_toolkit import selection as vis_selection\n",
    "from conversation_analytics_toolkit import wa_adaptor \n",
    "from conversation_analytics_toolkit import transcript \n",
    "from conversation_analytics_toolkit import flows \n",
    "from conversation_analytics_toolkit import keyword_analysis \n",
    "from conversation_analytics_toolkit import sentiment_analysis \n",
    "import ibm_watson\n",
    "from ibm_cloud_sdk_core.authenticators import IAMAuthenticator,BasicAuthenticator\n",
    "from ibm_watson import AssistantV1\n",
    "from ibm_cloud_sdk_core.authenticators import IAMAuthenticator\n",
    "from ibm_watson import AssistantV1 as WatsonAssistant\n",
    "\n",
    "authenticator = IAMAuthenticator(\"COLOQUE A APIKEY\") \n",
    "service = AssistantV1(version='2021-11-27',authenticator = authenticator) #COLOQUE A VERSÂO\n",
    "service.set_service_url(\"https://api.us-south.assistant.watson.cloud.ibm.com\") #COLOQUE A URL\n",
    "\n",
    "\n",
    "\n"
   ]
  },
  {
   "cell_type": "code",
   "execution_count": null,
   "metadata": {},
   "outputs": [],
   "source": [
    "#MOSTRA A WORKSPACE_ID DE CADA WORKSPACE (SEJA PROD OU HOMOLOG)\n",
    "response=service.list_workspaces().get_result() \n",
    "print(json.dumps(response, indent=2))"
   ]
  },
  {
   "cell_type": "code",
   "execution_count": null,
   "metadata": {
    "scrolled": true
   },
   "outputs": [],
   "source": [
    "#AQUI ELE FAZ A BUSCA DAS LOGS\n",
    "\n",
    "workspace_id = 'COLOQUE A WORKSPACE_ID'\n",
    "workspace=service.get_workspace(\n",
    "    workspace_id=workspace_id,\n",
    "    export=True\n",
    ").get_result()\n",
    "\n",
    "limit_number_of_records=100000000\n",
    "query_filter = \"response_timestamp>=2022-06-07,response_timestamp<2022-06-09\" #COLOQUE A DATA\n",
    "df_logs = wa_adaptor.read_logs(service, workspace_id, limit_number_of_records, query_filter)"
   ]
  },
  {
   "cell_type": "code",
   "execution_count": null,
   "metadata": {},
   "outputs": [],
   "source": [
    "skill_id = workspace_id\n",
    "assistant_skills = wa_assistant_skills.WA_Assistant_Skills()\n",
    "assistant_skills.add_skill(skill_id, workspace)\n",
    "#VALIDA A QUANTIDADE DE WORKSPACE ID\n",
    "print(\"workspace_ids nas skills: \" + pd.DataFrame(assistant_skills.list_skills())[\"skill_id\"].unique())\n",
    "print(\"workspace_ids nas logs: \"+ df_logs.workspace_id.unique())"
   ]
  },
  {
   "cell_type": "code",
   "execution_count": null,
   "metadata": {},
   "outputs": [],
   "source": [
    "df_logs_canonical = transformation.to_canonical_WA_v2(df_logs) #TRANSFORMA AS CONVERSAS EM LOGS\n",
    "#df_logs_canonical = transformation.to_canonical_WA_v2(df_logs, assistant_skills, skill_id_field=\"workspace_id\", include_nodes_visited_str_types=True, include_context=False)"
   ]
  },
  {
   "cell_type": "code",
   "execution_count": null,
   "metadata": {
    "scrolled": false
   },
   "outputs": [],
   "source": [
    "df_logs_to_analyze = df_logs_canonical.copy(deep=False) #IDENTIFICA LOGS CANONICAS"
   ]
  },
  {
   "cell_type": "code",
   "execution_count": null,
   "metadata": {},
   "outputs": [],
   "source": [
    "#AQUI ELE FAZ A BUSCA DAS CONVERSAS PARA GERAR O EXCEL\n",
    "\n",
    "j = []\n",
    "page_count = 1\n",
    "cursor = None\n",
    "count = 0\n",
    "while True:\n",
    "   \n",
    "    print('Reading page {}.'.format(page_count))\n",
    "    x = service.list_logs(workspace_id=workspace_id,filter = query_filter,cursor=cursor,page_limit=500).result\n",
    "    j.append(x[c_LOGS])\n",
    "    count = count + len(x[c_LOGS])\n",
    "    page_count = page_count + 1\n",
    "    cursor= x.get('pagination').get('next_cursor')\n",
    "    if not cursor:\n",
    "        break\n",
    "        "
   ]
  },
  {
   "cell_type": "code",
   "execution_count": null,
   "metadata": {
    "scrolled": true
   },
   "outputs": [],
   "source": [
    "#GERA O EXCEL\n",
    "\n",
    "i = 0 \n",
    "c = 0\n",
    "df = pd.DataFrame(columns=['Código da conversa','Conversa','Resposta','Data'])\n",
    "for i in range(len(j)):\n",
    "    m = 0\n",
    "    for m in range(len(j[i])):\n",
    "                                \n",
    "        if 'conversation_id' in j[i][m]['response']['context']:\n",
    "                df.loc[c,'Código da conversa'] = j[i][m]['response']['context']['conversation_id']\n",
    "                df.loc[c,'Conversa'] = j[i][m]['response']['input']['text']\n",
    "                df.loc[c,'Resposta'] = j[i][m]['response']['output']['generic']\n",
    "                df.loc[c,'Data'] = j[i][m]['request_timestamp']\n",
    "        c = c +1"
   ]
  },
  {
   "cell_type": "code",
   "execution_count": null,
   "metadata": {},
   "outputs": [],
   "source": [
    "#EXPORTA O EXCEL\n",
    "df.to_excel(r'C:\\Users\\conversas.xlsx', index = False)#indicar o caminho onde a pasta será salva"
   ]
  },
  {
   "cell_type": "code",
   "execution_count": null,
   "metadata": {},
   "outputs": [],
   "source": [
    "#ESTE É PARA IDENTIFICAR AS $CALLSUBJECTS\n",
    "df_logs.head(100)"
   ]
  },
  {
   "cell_type": "code",
   "execution_count": null,
   "metadata": {},
   "outputs": [],
   "source": []
  }
 ],
 "metadata": {
  "kernelspec": {
   "display_name": "Python 3",
   "language": "python",
   "name": "python3"
  },
  "language_info": {
   "codemirror_mode": {
    "name": "ipython",
    "version": 3
   },
   "file_extension": ".py",
   "mimetype": "text/x-python",
   "name": "python",
   "nbconvert_exporter": "python",
   "pygments_lexer": "ipython3",
   "version": "3.8.8"
  }
 },
 "nbformat": 4,
 "nbformat_minor": 2
}
