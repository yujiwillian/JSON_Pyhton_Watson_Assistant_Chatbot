{
 "cells": [
  {
   "cell_type": "code",
   "execution_count": null,
   "metadata": {},
   "outputs": [],
   "source": [
    "import json\n",
    "from ibm_watson import AssistantV1\n",
    "from ibm_cloud_sdk_core.authenticators import IAMAuthenticator,BasicAuthenticator\n",
    "import pandas as pd\n",
    "import argparse\n",
    "\n",
    "from ibm_watson import AssistantV1 as WatsonAssistant\n",
    "from ibm_cloud_sdk_core.authenticators import IAMAuthenticator\n",
    "from urllib.parse import urlparse, parse_qs\n",
    "from datetime import datetime\n",
    "\n",
    "c_RESPONSE = 'response'\n",
    "c_CONTEXT = 'context'\n",
    "c_SYSTEM = 'system'\n",
    "c_INPUT = 'input'\n",
    "c_OUTPUT = 'output'\n",
    "c_INTENTS = 'intents'\n",
    "c_INTENT = 'intent'\n",
    "c_TEXT = 'text'\n",
    "c_BRANCH_EXITED_REASON = 'branch_exited_reason'\n",
    "c_LOG_MESSAGING = 'log_messaging'\n",
    "c_CONFIDENCE = 'confidence'\n",
    "c_LOGS = 'logs'\n",
    "c_PAGINATION = 'pagination'\n",
    "c_NEXT_URL = 'next_url'\n",
    "c_CURSOR = 'cursor'"
   ]
  },
  {
   "cell_type": "code",
   "execution_count": null,
   "metadata": {},
   "outputs": [],
   "source": [
    "authenticator = IAMAuthenticator('COLOQUE A APIKEY')\n",
    "assistant = AssistantV1(\n",
    "   version='2021-11-27',\n",
    "  authenticator=authenticator\n",
    ")\n",
    "\n",
    "assistant.set_service_url(' https://api.us-south.assistant.watson.cloud.ibm.com')\n"
   ]
  },
  {
   "cell_type": "code",
   "execution_count": null,
   "metadata": {},
   "outputs": [],
   "source": [
    "response=assistant.list_workspaces().get_result()\n",
    "print(json.dumps(response, indent=2))"
   ]
  },
  {
   "cell_type": "markdown",
   "metadata": {},
   "source": [
    "BAIXAR LOGS\n"
   ]
  },
  {
   "cell_type": "markdown",
   "metadata": {},
   "source": [
    "j = []\n",
    "page_count = 1\n",
    "cursor = None\n",
    "count = 0\n",
    "while True:\n",
    "    \n",
    "    print('Reading page {}.'.format(page_count))\n",
    "    x = assistant.list_logs(workspace_id='c9857d3d-bc2c-476c-b26e-bb9e0578bf89',filter ='request_timestamp>2021-03-31,request_timestamp<2021-05-31',cursor=cursor,page_limit=500).result\n",
    "    j.append(x[c_LOGS])\n",
    "    count = count + len(x[c_LOGS])\n",
    "    page_count = page_count + 1\n",
    "    print(x['pagination'])\n",
    "    cursor= x.get('pagination').get('next_cursor')\n",
    "    if not cursor:\n",
    "        break"
   ]
  },
  {
   "cell_type": "code",
   "execution_count": null,
   "metadata": {},
   "outputs": [],
   "source": [
    "j = []\n",
    "page_count = 1\n",
    "cursor = None\n",
    "count = 0\n",
    "while True:\n",
    "   \n",
    "    print('Reading page {}.'.format(page_count))\n",
    "    x = assistant.list_logs(workspace_id='COLOQUE A WORKSPACE ID',filter ='request_timestamp>2022-05-20,request_timestamp<2022-06-01',cursor=cursor,page_limit=500).result\n",
    "    j.append(x[c_LOGS])\n",
    "    count = count + len(x[c_LOGS])\n",
    "    page_count = page_count + 1\n",
    "    cursor= x.get('pagination').get('next_cursor')\n",
    "    if not cursor:\n",
    "        break"
   ]
  },
  {
   "cell_type": "markdown",
   "metadata": {},
   "source": [
    "verificar NPs"
   ]
  },
  {
   "cell_type": "markdown",
   "metadata": {},
   "source": [
    "Verificar usuários"
   ]
  },
  {
   "cell_type": "code",
   "execution_count": null,
   "metadata": {},
   "outputs": [],
   "source": [
    "i = 0 \n",
    "c = 0\n",
    "df = pd.DataFrame(columns=['usuarios','dia','Mes','Ano'])\n",
    "for i in range(len(j)):\n",
    "    m = 0\n",
    "    for m in range(len(j[i])):\n",
    "                                \n",
    "        if 'userInfo' in j[i][m]['request']['context']:\n",
    "            if 'name' in j[i][m]['request']['context']['userInfo']:\n",
    "                df.loc[c,'usuarios'] = j[i][m]['request']['context']['userInfo']['email']\n",
    "                df.loc[c,'dia'] = j[i][m]['request_timestamp'].split('T')[0].split(\"-\")[2]\n",
    "                df.loc[c,'Mes'] = j[i][m]['request_timestamp'].split('T')[0].split(\"-\")[1]\n",
    "                df.loc[c,'Ano'] = j[i][m]['request_timestamp'].split('T')[0].split(\"-\")[0]  \n",
    "\n",
    "        c = c +1"
   ]
  },
  {
   "cell_type": "code",
   "execution_count": null,
   "metadata": {},
   "outputs": [],
   "source": [
    "df.to_excel(r'C:\\Users\\topusuarios.xlsx', index = False)#indicar o caminho onde a pasta será salva"
   ]
  },
  {
   "cell_type": "code",
   "execution_count": null,
   "metadata": {},
   "outputs": [],
   "source": []
  }
 ],
 "metadata": {
  "kernelspec": {
   "display_name": "Python 3",
   "language": "python",
   "name": "python3"
  },
  "language_info": {
   "codemirror_mode": {
    "name": "ipython",
    "version": 3
   },
   "file_extension": ".py",
   "mimetype": "text/x-python",
   "name": "python",
   "nbconvert_exporter": "python",
   "pygments_lexer": "ipython3",
   "version": "3.8.8"
  }
 },
 "nbformat": 4,
 "nbformat_minor": 4
}
