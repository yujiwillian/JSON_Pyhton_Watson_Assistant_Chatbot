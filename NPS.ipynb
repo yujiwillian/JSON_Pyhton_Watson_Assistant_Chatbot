{
 "cells": [
  {
   "cell_type": "code",
   "execution_count": null,
   "metadata": {},
   "outputs": [],
   "source": [
    "##INSTALANDO A PACKAGE DO WATSON\n",
    "!pip install --upgrade \"ibm-watson>=5.2.0\""
   ]
  },
  {
   "cell_type": "code",
   "execution_count": null,
   "metadata": {},
   "outputs": [],
   "source": [
    "# importações necessárias\n",
    "import json\n",
    "from ibm_watson import AssistantV1\n",
    "from ibm_cloud_sdk_core.authenticators import IAMAuthenticator,BasicAuthenticator\n",
    "import pandas as pd\n",
    "import argparse\n",
    "\n",
    "from ibm_watson import AssistantV1 as WatsonAssistant\n",
    "from ibm_cloud_sdk_core.authenticators import IAMAuthenticator\n",
    "from urllib.parse import urlparse, parse_qs\n",
    "from datetime import datetime\n",
    "\n",
    "c_RESPONSE = 'response'\n",
    "c_CONTEXT = 'context'\n",
    "c_SYSTEM = 'system'\n",
    "c_INPUT = 'input'\n",
    "c_OUTPUT = 'output'\n",
    "c_INTENTS = 'intents'\n",
    "c_INTENT = 'intent'\n",
    "c_TEXT = 'text'\n",
    "c_BRANCH_EXITED_REASON = 'branch_exited_reason'\n",
    "c_LOG_MESSAGING = 'log_messaging'\n",
    "c_CONFIDENCE = 'confidence'\n",
    "c_LOGS = 'logs'\n",
    "c_PAGINATION = 'pagination'\n",
    "c_NEXT_URL = 'next_url'\n",
    "c_CURSOR = 'cursor'\n",
    "\n",
    "#authenticator = BasicAuthenticator('apikey','WsMdR1oCo5XYJQCQYacNS2kSwlbdq_O_dx1D2MtN2QRk')\n",
    "authenticator = IAMAuthenticator('') #Inserir dentro das aspas a sua apiKEY\n",
    "assistant = AssistantV1(\n",
    "   version='2020-04-01',\n",
    "  authenticator=authenticator\n",
    ")\n",
    "\n",
    "\n",
    "assistant.set_service_url('https://api.us-south.assistant.watson.cloud.ibm.com') #Inserir dentro das aspas a sua URL(URL DO chat)\n"
   ]
  },
  {
   "cell_type": "code",
   "execution_count": null,
   "metadata": {},
   "outputs": [],
   "source": [
    "#BAIXANDO AS LOGS DA WS\n",
    "j = []\n",
    "page_count = 1\n",
    "cursor = None\n",
    "count = 0\n",
    "\n",
    "x = { c_PAGINATION: 'DUMMY' }\n",
    "while True:\n",
    "    \n",
    "    print('Reading page {}.'.format(page_count))\n",
    "    x = assistant.list_logs(workspace_id='f40c0eda-c7be-4f4d-a74a-d5e444285fe0'#COLOCAR A WORKSPACE_ID dentro das aspas\n",
    "                            ,filter ='request_timestamp > 2021-05-31,request_timestamp<2021-06-24',cursor=cursor,page_limit=500).result\n",
    "    j.append(x[c_LOGS])\n",
    "    count = count + len(x[c_LOGS])\n",
    "    page_count = page_count + 1\n",
    "    cursor= x.get('pagination').get('next_cursor')\n",
    "    if not cursor:\n",
    "        break"
   ]
  },
  {
   "cell_type": "code",
   "execution_count": null,
   "metadata": {},
   "outputs": [],
   "source": [
    "### NESSE BLOCO SERÁ EFETUADO O MAPEAMENTO DO JSON E VALIDANDO SE EXISTE NPS EM CADA BLOCO, SE TIVER SERÁ ADICIONADO EM UMA LISTA\n",
    "i = 0 \n",
    "nps = []\n",
    "base = pd.DataFrame()\n",
    "listaNova= []\n",
    "for i in range(len(j)):\n",
    "    m = 0\n",
    "    for m in range(len(j[i])):\n",
    "        if 'nps' in j[i][m]['response']['output']:\n",
    "            nps.append(j[i][m]['response']['output']['nps'])"
   ]
  },
  {
   "cell_type": "code",
   "execution_count": null,
   "metadata": {},
   "outputs": [],
   "source": [
    "###### Somando as notas\n",
    "i = 0\n",
    "dicionario = {0:0,1:0,2:0,3:0,4:0,5:0,6:0,7:0,8:0,9:0,10:0}\n",
    "for i in range(len(nps)):\n",
    "    if nps[i] == 0 or  nps[i] == '0' :\n",
    "        dicionario[0] = dicionario[0] +1\n",
    "    if nps[i] == 1 or  nps[i] == '1':\n",
    "        dicionario[1] = dicionario[1] +1\n",
    "    if nps[i] == 2 or  nps[i] == '2':\n",
    "        dicionario[2] = dicionario[2] +1\n",
    "    if nps[i] == 3 or  nps[i] == '3':\n",
    "        dicionario[3] = dicionario[3] +1\n",
    "    if nps[i] == 4 or  nps[i] == '4':\n",
    "        dicionario[4] = dicionario[4] +1\n",
    "    if nps[i] == 5 or  nps[i] == '5' :\n",
    "        dicionario[5] = dicionario[5] +1\n",
    "    if nps[i] == 6 or  nps[i] == '6':\n",
    "        dicionario[6] = dicionario[6] +1\n",
    "    if nps[i] == 7 or  nps[i] == '7':\n",
    "        dicionario[7] = dicionario[7] +1\n",
    "    if nps[i] == 8 or  nps[i] == '8':\n",
    "        dicionario[8] = dicionario[8] +1\n",
    "    if nps[i] == 9 or  nps[i] == '9' :\n",
    "        dicionario[9] = dicionario[9] +1\n",
    "    if nps[i] == 10 or nps[i] == '10':\n",
    "        dicionario[10] = dicionario[10] +1\n",
    "dicionario\n"
   ]
  },
  {
   "cell_type": "code",
   "execution_count": null,
   "metadata": {},
   "outputs": [],
   "source": [
    "##Salvando a planilha com as notas\n",
    "df = pd.DataFrame()\n",
    "i = 0\n",
    "for i in range(11):\n",
    "    df.loc[i,'Quantidade de notas'] = dicionario[i]\n",
    "df.to_excel(r'C:\\Users\\AndreNatanaelDaSilva\\Box\\Account Team_SME_Watson Delivery_Automações\\Banco CSF\\CSFRICARDOate24-06-2021.xlsx')"
   ]
  }
 ],
 "metadata": {
  "kernelspec": {
   "display_name": "Python 3",
   "language": "python",
   "name": "python3"
  },
  "language_info": {
   "codemirror_mode": {
    "name": "ipython",
    "version": 3
   },
   "file_extension": ".py",
   "mimetype": "text/x-python",
   "name": "python",
   "nbconvert_exporter": "python",
   "pygments_lexer": "ipython3",
   "version": "3.8.8"
  }
 },
 "nbformat": 4,
 "nbformat_minor": 4
}
